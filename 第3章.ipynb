{
 "cells": [
  {
   "cell_type": "code",
   "execution_count": 3,
   "metadata": {},
   "outputs": [
    {
     "name": "stdout",
     "output_type": "stream",
     "text": [
      "根据本序列计算得到回报为：-2.5。\n"
     ]
    }
   ],
   "source": [
    "import numpy as np\n",
    "np.random.seed(0)\n",
    "# 定义状态转移概率矩阵P\n",
    "P = [\n",
    "    [0.9, 0.1, 0.0, 0.0, 0.0, 0.0],\n",
    "    [0.5, 0.0, 0.5, 0.0, 0.0, 0.0],\n",
    "    [0.0, 0.0, 0.0, 0.6, 0.0, 0.4],\n",
    "    [0.0, 0.0, 0.0, 0.0, 0.3, 0.7],\n",
    "    [0.0, 0.2, 0.3, 0.5, 0.0, 0.0],\n",
    "    [0.0, 0.0, 0.0, 0.0, 0.0, 1.0],\n",
    "]\n",
    "P = np.array(P)\n",
    "\n",
    "rewards = [-1, -2, -2, 10, 1, 0]  # 定义奖励函数\n",
    "gamma = 0.5  # 定义折扣因子\n",
    "\n",
    "\n",
    "# 给定一条序列,计算从某个索引（起始状态）开始到序列最后（终止状态）得到的回报\n",
    "def compute_return(start_index, chain, gamma):\n",
    "    G = 0\n",
    "    for i in reversed(range(start_index, len(chain))):\n",
    "        G = gamma * G + rewards[chain[i] - 1]\n",
    "    return G\n",
    "\n",
    "\n",
    "# 一个状态序列,s1-s2-s3-s6\n",
    "chain = [1, 2, 3, 6]\n",
    "start_index = 0\n",
    "G = compute_return(start_index, chain, gamma)\n",
    "print(\"根据本序列计算得到回报为：%s。\" % G)"
   ]
  },
  {
   "cell_type": "code",
   "execution_count": 4,
   "metadata": {},
   "outputs": [
    {
     "name": "stdout",
     "output_type": "stream",
     "text": [
      "MRP中每个状态价值分别为\n",
      " [[-2.01950168]\n",
      " [-2.21451846]\n",
      " [ 1.16142785]\n",
      " [10.53809283]\n",
      " [ 3.58728554]\n",
      " [ 0.        ]]\n"
     ]
    }
   ],
   "source": [
    "def compute(P, rewards, gamma, states_num):\n",
    "    ''' 利用贝尔曼方程的矩阵形式计算解析解,states_num是MRP的状态数 '''\n",
    "    rewards = np.array(rewards).reshape((-1, 1))  #将rewards写成列向量形式\n",
    "    value = np.dot(np.linalg.inv(np.eye(states_num, states_num) - gamma * P),\n",
    "                   rewards)\n",
    "    return value\n",
    "\n",
    "\n",
    "V = compute(P, rewards, gamma, 6)\n",
    "print(\"MRP中每个状态价值分别为\\n\", V)"
   ]
  },
  {
   "cell_type": "code",
   "execution_count": 5,
   "metadata": {},
   "outputs": [],
   "source": [
    "S = [\"s1\", \"s2\", \"s3\", \"s4\", \"s5\"]  # 状态集合\n",
    "A = [\"保持s1\", \"前往s1\", \"前往s2\", \"前往s3\", \"前往s4\", \"前往s5\", \"概率前往\"]  # 动作集合\n",
    "# 状态转移函数\n",
    "P = {\n",
    "    \"s1-保持s1-s1\": 1.0,\n",
    "    \"s1-前往s2-s2\": 1.0,\n",
    "    \"s2-前往s1-s1\": 1.0,\n",
    "    \"s2-前往s3-s3\": 1.0,\n",
    "    \"s3-前往s4-s4\": 1.0,\n",
    "    \"s3-前往s5-s5\": 1.0,\n",
    "    \"s4-前往s5-s5\": 1.0,\n",
    "    \"s4-概率前往-s2\": 0.2,\n",
    "    \"s4-概率前往-s3\": 0.4,\n",
    "    \"s4-概率前往-s4\": 0.4,\n",
    "}\n",
    "# 奖励函数\n",
    "R = {\n",
    "    \"s1-保持s1\": -1,\n",
    "    \"s1-前往s2\": 0,\n",
    "    \"s2-前往s1\": -1,\n",
    "    \"s2-前往s3\": -2,\n",
    "    \"s3-前往s4\": -2,\n",
    "    \"s3-前往s5\": 0,\n",
    "    \"s4-前往s5\": 10,\n",
    "    \"s4-概率前往\": 1,\n",
    "}\n",
    "gamma = 0.5  # 折扣因子\n",
    "MDP = (S, A, P, R, gamma)\n",
    "# 策略1,随机策略\n",
    "Pi_1 = {\n",
    "    \"s1-保持s1\": 0.5,\n",
    "    \"s1-前往s2\": 0.5,\n",
    "    \"s2-前往s1\": 0.5,\n",
    "    \"s2-前往s3\": 0.5,\n",
    "    \"s3-前往s4\": 0.5,\n",
    "    \"s3-前往s5\": 0.5,\n",
    "    \"s4-前往s5\": 0.5,\n",
    "    \"s4-概率前往\": 0.5,\n",
    "}\n",
    "# 策略2\n",
    "Pi_2 = {\n",
    "    \"s1-保持s1\": 0.6,\n",
    "    \"s1-前往s2\": 0.4,\n",
    "    \"s2-前往s1\": 0.3,\n",
    "    \"s2-前往s3\": 0.7,\n",
    "    \"s3-前往s4\": 0.5,\n",
    "    \"s3-前往s5\": 0.5,\n",
    "    \"s4-前往s5\": 0.1,\n",
    "    \"s4-概率前往\": 0.9,\n",
    "}\n",
    "# 把输入的两个字符串通过“-”连接,便于使用上述定义的P、R变量\n",
    "def join(str1, str2):\n",
    "    return str1 + '-' + str2"
   ]
  },
  {
   "cell_type": "code",
   "execution_count": 6,
   "metadata": {},
   "outputs": [
    {
     "name": "stdout",
     "output_type": "stream",
     "text": [
      "MDP中每个状态价值分别为\n",
      " [[-1.22555411]\n",
      " [-1.67666232]\n",
      " [ 0.51890482]\n",
      " [ 6.0756193 ]\n",
      " [ 0.        ]]\n"
     ]
    }
   ],
   "source": [
    "gamma = 0.5\n",
    "P_from_mdp_to_mrp = [\n",
    "    [0.5, 0.5, 0.0, 0.0, 0.0],\n",
    "    [0.5, 0.0, 0.5, 0.0, 0.0],\n",
    "    [0.0, 0.0, 0.0, 0.5, 0.5],\n",
    "    [0.0, 0.1, 0.2, 0.2, 0.5],\n",
    "    [0.0, 0.0, 0.0, 0.0, 1.0],\n",
    "]\n",
    "P_from_mdp_to_mrp = np.array(P_from_mdp_to_mrp)\n",
    "R_from_mdp_to_mrp = [-0.5, -1.5, -1.0, 5.5, 0]\n",
    "\n",
    "V = compute(P_from_mdp_to_mrp, R_from_mdp_to_mrp, gamma, 5)\n",
    "print(\"MDP中每个状态价值分别为\\n\", V)"
   ]
  },
  {
   "cell_type": "code",
   "execution_count": null,
   "metadata": {},
   "outputs": [
    {
     "name": "stdout",
     "output_type": "stream",
     "text": [
      "第一条序列\n",
      " [('s2', '前往s3', -2, 's3'), ('s3', '前往s4', -2, 's4'), ('s4', '前往s5', 10, 's5')]\n",
      "第二条序列\n",
      " [('s4', '概率前往', 1, 's2'), ('s2', '前往s3', -2, 's3'), ('s3', '前往s5', 0, 's5')]\n",
      "第五条序列\n",
      " [('s4', '前往s5', 10, 's5')]\n"
     ]
    }
   ],
   "source": [
    "def sample(MDP ,Pi, timestep_max, number):\n",
    "    ''' 采样函数,策略Pi,限制最长时间步timestep_max,总共采样序列数number '''\n",
    "    S, A, P, R, gamma = MDP# 提取MDP相关参数\n",
    "    episodes = []# 储存总采样序列\n",
    "    for i in range(number):# 循环number次， 进行序列采样\n",
    "        episode = []# 初始化采样序列\n",
    "        timestep = 0# 初始数时间节点\n",
    "        s = S[np.random.randint(4)]# 随机选择一个除s5以外的状态s作为起点\n",
    "        while s != \"s5\" and timestep <= timestep_max:#* 循环，当前状态为终止状态或者时间步太长时,一次采样结束，注意，逻辑错误，错误搞成了while s== \"s5\" or timestep >= timestep_max:\n",
    "            timestep += 1# 时间步增加\n",
    "            rand, temp = np.random.rand(), 0 #* 创建随机概率与策略概率\n",
    "            for a in A:# 在状态s下根据策略选择动作并获得奖励（累加轮盘赌选择）\n",
    "                temp += Pi.get(join(s,a), 0)#\n",
    "                if rand < temp:#* 此处应该是小于而非大于\n",
    "                    r = R[join(s,a)]#\n",
    "                    break#\n",
    "            rand, temp = np.random.rand(), 0#* 重置随机概率与策略概率\n",
    "            for  s_next in S:# 根据状态转移概率得到下一个状态s_next（累加轮盘赌选择）\n",
    "                temp += P.get(join(join(s ,a), s_next), 0)#\n",
    "                if rand < temp:#*\n",
    "                    break#\n",
    "            episode.append((s ,a, r, s_next))# 把（s,a,r,s_next）元组放入序列中\n",
    "            s = s_next# s_next变成当前状态,开始接下来的循环\n",
    "        episodes.append(episode)# 扩展总采样序列\n",
    "    return episodes# 返回总采样序列\n",
    "\n",
    "episodes = sample(MDP ,Pi_1, 20, 5)# 采样5次,每个序列最长不超过20步\n",
    "print('第一条序列\\n', episodes[0])\n",
    "print('第二条序列\\n', episodes[1])\n",
    "print('第五条序列\\n', episodes[4])"
   ]
  },
  {
   "cell_type": "code",
   "execution_count": null,
   "metadata": {},
   "outputs": [
    {
     "name": "stdout",
     "output_type": "stream",
     "text": [
      "使用蒙特卡洛方法计算MDP的状态价值为\n",
      " {'s1': -1.22211291493596, 's2': -1.663971217074737, 's3': 0.5021584130065688, 's4': 6.0046082707616, 's5': 0}\n"
     ]
    }
   ],
   "source": [
    "def MC(episodes, V, N, gamma):\n",
    "    \"\"\"对所有采样序列计算所有状态的价值\"\"\"\n",
    "    for episode in episodes:# 循环，提取每一幕的数据\n",
    "        G = 0# 初始化回报\n",
    "        for i in range(len(episode) -1 , -1 , -1): #* 一个序列从后往前计算回报\n",
    "            (s, a, r, s_next) = episode[i] #*\n",
    "            G = gamma * G + r#\n",
    "            N[s] += 1#\n",
    "            V[s] = V[s] + 1/N[s]*(G - V[s])#\n",
    "\n",
    "timestep_max = 20\n",
    "episodes = sample(MDP ,Pi_1, 20, 1000)# 采样1000次,可以自行修改\n",
    "V = {\"s1\": 0, \"s2\": 0, \"s3\": 0, \"s4\": 0, \"s5\": 0}# 初始化价值函数\n",
    "N = {\"s1\": 0, \"s2\": 0, \"s3\": 0, \"s4\": 0, \"s5\": 0}# 初始化状态被访问次数\n",
    "MC(episodes, V, N, gamma)# 运行蒙特卡洛方法\n",
    "print(\"使用蒙特卡洛方法计算MDP的状态价值为\\n\", V)"
   ]
  },
  {
   "cell_type": "code",
   "execution_count": null,
   "metadata": {},
   "outputs": [
    {
     "name": "stdout",
     "output_type": "stream",
     "text": [
      "0.10933789486751244 0.22662902209217917\n"
     ]
    }
   ],
   "source": [
    "def occupancy(timestep_max, episodes):\n",
    "    ''' 计算状态动作对（s,a）出现的频率,以此来估算策略的占用度量 '''\n",
    "    rho = 0# 初始化占用度量\n",
    "    total_times = np.zeros(timestep_max)# 记录每个时间步t各被经历过几次\n",
    "    occur_times = np.zeros(timestep_max)# 记录(s_t,a_t)=(s,a)的次数\n",
    "    for episode in episodes:# 循环，提取每一幕的数据\n",
    "        for i in range(len(episode)):#循环，提取每一时间步的数据\n",
    "            (s, a, r, s_next) = episode[i]# 提取状态，动作，奖励，下一个状态\n",
    "            total_times[i] += 1 # 累计时间步t被经历的次数\n",
    "            if s == \"s4\" and a == \"概率前往\":# 如果状态和动作与输入的相同\n",
    "                occur_times[i] += 1# 累计时间步t状态动作对出现的次数\n",
    "    for i in range(timestep_max):# 计算\n",
    "        if total_times[i] != 0:# 如果时间步t被经历过\n",
    "            rho += gamma**i * (occur_times[i]/total_times[i])#* 计算占用度量\n",
    "    return (1 - gamma) * rho# 返回占用度量\n",
    "\n",
    "gamma = 0.5\n",
    "timestep_max = 1000\n",
    "np.random.seed(0)\n",
    "episodes_1 = sample(MDP, Pi_1, timestep_max, 1000)\n",
    "episodes_2 = sample(MDP, Pi_2, timestep_max, 1000)\n",
    "rho_1 = occupancy(timestep_max, episodes_1)# 计算episodes_1\"s4\", \"概率前往\"的占用度量\n",
    "rho_2 = occupancy(timestep_max, episodes_2)# 计算episodes_2\"s4\", \"概率前往\"的占用度量\n",
    "print(rho_1, rho_2)"
   ]
  }
 ],
 "metadata": {
  "kernelspec": {
   "display_name": "RL",
   "language": "python",
   "name": "python3"
  },
  "language_info": {
   "codemirror_mode": {
    "name": "ipython",
    "version": 3
   },
   "file_extension": ".py",
   "mimetype": "text/x-python",
   "name": "python",
   "nbconvert_exporter": "python",
   "pygments_lexer": "ipython3",
   "version": "3.9.19"
  }
 },
 "nbformat": 4,
 "nbformat_minor": 2
}
